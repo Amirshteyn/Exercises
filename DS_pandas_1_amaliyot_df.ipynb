{
  "nbformat": 4,
  "nbformat_minor": 0,
  "metadata": {
    "colab": {
      "provenance": [],
      "include_colab_link": true
    },
    "kernelspec": {
      "display_name": "Python 3",
      "language": "python",
      "name": "python3"
    },
    "language_info": {
      "codemirror_mode": {
        "name": "ipython",
        "version": 3
      },
      "file_extension": ".py",
      "mimetype": "text/x-python",
      "name": "python",
      "nbconvert_exporter": "python",
      "pygments_lexer": "ipython3",
      "version": "3.8.8"
    }
  },
  "cells": [
    {
      "cell_type": "markdown",
      "metadata": {
        "id": "view-in-github",
        "colab_type": "text"
      },
      "source": [
        "<a href=\"https://colab.research.google.com/github/Amirshteyn/Exercises/blob/main/DS_pandas_1_amaliyot_df.ipynb\" target=\"_parent\"><img src=\"https://colab.research.google.com/assets/colab-badge.svg\" alt=\"Open In Colab\"/></a>"
      ]
    },
    {
      "cell_type": "markdown",
      "metadata": {
        "id": "WyTfPJtEqH5C"
      },
      "source": [
        "# ![Imgur](https://i.imgur.com/5pXzCIu.png)\n",
        "\n",
        "# **DATA SCIENCE VA SUN'IY INTELLEKT PRAKTIKUM**\n",
        "\n",
        "## Ma'lumotlar tahlili. Pandas kutubxonasi.\n",
        "\n",
        "# **AMALIYOT**\n",
        "## 3.1 Series va Index"
      ]
    },
    {
      "cell_type": "markdown",
      "metadata": {
        "id": "FNLOb9yhxI0b"
      },
      "source": [
        "### **1-mashq**. `Pandas` kutubxonasini `pd`, `numpy` kutubxonasini `np` deb chaqirib oling"
      ]
    },
    {
      "cell_type": "code",
      "metadata": {
        "id": "GrbBfqRpxIFr"
      },
      "source": [
        "# Javobni shuyerga yozing\n",
        "import pandas as pd\n",
        "import numpy as np"
      ],
      "execution_count": 13,
      "outputs": []
    },
    {
      "cell_type": "code",
      "metadata": {
        "code_folding": [],
        "id": "24df0gBjIppl",
        "jupyter": {
          "source_hidden": true
        },
        "tags": [],
        "cellView": "form"
      },
      "source": [
        "#@title To'g'ri javob\n",
        "import pandas as pd\n",
        "import numpy as np"
      ],
      "execution_count": 14,
      "outputs": []
    },
    {
      "cell_type": "markdown",
      "metadata": {
        "id": "4Utgz2Bf3GgB"
      },
      "source": [
        "### **2-mashq.** O'zbekiston Respublikasi viloyatlaridan iborat bir o'lchamli Series obyektini yarating"
      ]
    },
    {
      "cell_type": "code",
      "metadata": {
        "id": "PD7qQQH9oA87",
        "colab": {
          "base_uri": "https://localhost:8080/"
        },
        "outputId": "68795a5e-c09d-4290-fa73-6b05a4b102de"
      },
      "source": [
        "# Javobni shu yerga yozing\n",
        "viloyatlar  = [\n",
        "    \"Andijon\",\n",
        "    \"Buxoro\",\n",
        "    \"Farg'ona\",\n",
        "    \"Jizzax\",\n",
        "    \"Xorazm\",\n",
        "    \"Namangan\",\n",
        "    \"Navoiy\",\n",
        "    \"Qashqadaryo\",\n",
        "    \"Qoraqalpog'iston Respublikasi\",\n",
        "    \"Samarqand\",\n",
        "    \"Sirdaryo\",\n",
        "    \"Surxondaryo\",\n",
        "    \"Toshkent\"\n",
        "]\n",
        "\n",
        "ser = pd.Series(viloyatlar)\n",
        "ser"
      ],
      "execution_count": 18,
      "outputs": [
        {
          "output_type": "execute_result",
          "data": {
            "text/plain": [
              "0                           Andijon\n",
              "1                            Buxoro\n",
              "2                          Farg'ona\n",
              "3                            Jizzax\n",
              "4                            Xorazm\n",
              "5                          Namangan\n",
              "6                            Navoiy\n",
              "7                       Qashqadaryo\n",
              "8     Qoraqalpog'iston Respublikasi\n",
              "9                         Samarqand\n",
              "10                         Sirdaryo\n",
              "11                      Surxondaryo\n",
              "12                         Toshkent\n",
              "dtype: object"
            ]
          },
          "metadata": {},
          "execution_count": 18
        }
      ]
    },
    {
      "cell_type": "code",
      "metadata": {
        "cellView": "form",
        "code_folding": [
          0
        ],
        "colab": {
          "base_uri": "https://localhost:8080/"
        },
        "id": "u0m-fPU43iPn",
        "jupyter": {
          "source_hidden": true
        },
        "tags": [],
        "outputId": "4a36c1a0-8a8b-45de-9ea5-c0f608f8c971"
      },
      "source": [
        "#@title **To'g'ri javob**\n",
        "obj = pd.Series(\n",
        "    [\n",
        "        \"Andijon\",\n",
        "        \"Buxoro\",\n",
        "        \"Farg'ona\",\n",
        "        \"Jizzax\",\n",
        "        \"Xorazm\",\n",
        "        \"Namangan\",\n",
        "        \"Navoiy\",\n",
        "        \"Qashqadaryo\",\n",
        "        \"Qoraqalpog'iston Respublikasi\",\n",
        "        \"Samarqand\",\n",
        "        \"Sirdaryo\",\n",
        "        \"Surxondaryo\",\n",
        "        \"Toshkent\",\n",
        "    ]\n",
        ")\n",
        "print(obj)"
      ],
      "execution_count": 15,
      "outputs": [
        {
          "output_type": "stream",
          "name": "stdout",
          "text": [
            "0                           Andijon\n",
            "1                            Buxoro\n",
            "2                          Farg'ona\n",
            "3                            Jizzax\n",
            "4                            Xorazm\n",
            "5                          Namangan\n",
            "6                            Navoiy\n",
            "7                       Qashqadaryo\n",
            "8     Qoraqalpog'iston Respublikasi\n",
            "9                         Samarqand\n",
            "10                         Sirdaryo\n",
            "11                      Surxondaryo\n",
            "12                         Toshkent\n",
            "dtype: object\n"
          ]
        }
      ]
    },
    {
      "cell_type": "markdown",
      "metadata": {
        "id": "HNKNuN67pQzX"
      },
      "source": [
        "### **3-mashq.** Yuqorida yaratilgan Series obyektining barcha qiymaltarini chiqaring"
      ]
    },
    {
      "cell_type": "code",
      "metadata": {
        "id": "DLduyoXjqkSx",
        "colab": {
          "base_uri": "https://localhost:8080/"
        },
        "outputId": "22b9151c-56ce-45ef-ba37-cdc745fb3b99"
      },
      "source": [
        "# Javobni shuyerga yozing\n",
        "ser.values"
      ],
      "execution_count": 19,
      "outputs": [
        {
          "output_type": "execute_result",
          "data": {
            "text/plain": [
              "array(['Andijon', 'Buxoro', \"Farg'ona\", 'Jizzax', 'Xorazm', 'Namangan',\n",
              "       'Navoiy', 'Qashqadaryo', \"Qoraqalpog'iston Respublikasi\",\n",
              "       'Samarqand', 'Sirdaryo', 'Surxondaryo', 'Toshkent'], dtype=object)"
            ]
          },
          "metadata": {},
          "execution_count": 19
        }
      ]
    },
    {
      "cell_type": "code",
      "metadata": {
        "code_folding": [
          0
        ],
        "id": "SDdwnLJ731EK",
        "jupyter": {
          "source_hidden": true
        },
        "tags": []
      },
      "source": [
        "# @title **To'g'ri javob**\n",
        "obj.values"
      ],
      "execution_count": null,
      "outputs": []
    },
    {
      "cell_type": "markdown",
      "metadata": {
        "id": "dfiWArV2qvTr"
      },
      "source": [
        "### **4-mashq.** Yuqoridagi Series obyektining eng birinchi qiymatini chiqaring"
      ]
    },
    {
      "cell_type": "code",
      "metadata": {
        "id": "On9qxbkehV9e",
        "colab": {
          "base_uri": "https://localhost:8080/",
          "height": 36
        },
        "outputId": "5f5d1be3-6e85-418d-ab66-a6e31c1a1ca0"
      },
      "source": [
        "# Javobni shuyerga yozing\n",
        "ser[0]"
      ],
      "execution_count": 20,
      "outputs": [
        {
          "output_type": "execute_result",
          "data": {
            "text/plain": [
              "'Andijon'"
            ],
            "application/vnd.google.colaboratory.intrinsic+json": {
              "type": "string"
            }
          },
          "metadata": {},
          "execution_count": 20
        }
      ]
    },
    {
      "cell_type": "code",
      "metadata": {
        "cellView": "form",
        "code_folding": [
          0
        ],
        "colab": {
          "base_uri": "https://localhost:8080/",
          "height": 35
        },
        "id": "_Dn-oksDv5zL",
        "jupyter": {
          "source_hidden": true
        },
        "tags": [],
        "outputId": "4452f0a2-3eca-45c4-ebc8-3a24fc77b814"
      },
      "source": [
        "# @title **To'g'ri javob**\n",
        "obj[0]"
      ],
      "execution_count": null,
      "outputs": [
        {
          "data": {
            "text/plain": [
              "'Andijon'"
            ]
          },
          "execution_count": 10,
          "metadata": {},
          "output_type": "execute_result"
        }
      ]
    },
    {
      "cell_type": "markdown",
      "metadata": {
        "id": "ARL6cU7KhPUO"
      },
      "source": [
        "### **5-mashq.** Yuqoridagi Series obyektining eng oxirgi qiymatini chiqaring"
      ]
    },
    {
      "cell_type": "code",
      "metadata": {
        "id": "nIDEksXShLO5",
        "colab": {
          "base_uri": "https://localhost:8080/",
          "height": 36
        },
        "outputId": "d597ef24-fb3d-41c9-993b-012c5da4b3f9"
      },
      "source": [
        "# Javobni shuyerga yozing\n",
        "ser[12]"
      ],
      "execution_count": 21,
      "outputs": [
        {
          "output_type": "execute_result",
          "data": {
            "text/plain": [
              "'Toshkent'"
            ],
            "application/vnd.google.colaboratory.intrinsic+json": {
              "type": "string"
            }
          },
          "metadata": {},
          "execution_count": 21
        }
      ]
    },
    {
      "cell_type": "code",
      "metadata": {
        "cellView": "form",
        "code_folding": [
          0
        ],
        "colab": {
          "base_uri": "https://localhost:8080/",
          "height": 35
        },
        "id": "wnan3_t1hYkG",
        "jupyter": {
          "source_hidden": true
        },
        "tags": [],
        "outputId": "b0c02f06-6978-4e07-ff76-31aec5964d48"
      },
      "source": [
        "# @title **To'g'ri javob**\n",
        "obj[12]"
      ],
      "execution_count": null,
      "outputs": [
        {
          "data": {
            "text/plain": [
              "'Toshkent'"
            ]
          },
          "execution_count": 12,
          "metadata": {},
          "output_type": "execute_result"
        }
      ]
    },
    {
      "cell_type": "markdown",
      "metadata": {
        "id": "peT8QIPdh2SM"
      },
      "source": [
        "### **6-mashq.** Yuqoridagi Series obyekti uzunligini chiqaring"
      ]
    },
    {
      "cell_type": "code",
      "metadata": {
        "id": "g72orrMvheN4",
        "colab": {
          "base_uri": "https://localhost:8080/"
        },
        "outputId": "05a9038b-88b2-4748-925d-ecb39961a48f"
      },
      "source": [
        "# Javobni shuyerga yozing\n",
        "ser.size"
      ],
      "execution_count": 22,
      "outputs": [
        {
          "output_type": "execute_result",
          "data": {
            "text/plain": [
              "13"
            ]
          },
          "metadata": {},
          "execution_count": 22
        }
      ]
    },
    {
      "cell_type": "code",
      "metadata": {
        "cellView": "form",
        "code_folding": [
          0
        ],
        "colab": {
          "base_uri": "https://localhost:8080/"
        },
        "id": "ICENpA_JiFgl",
        "jupyter": {
          "source_hidden": true
        },
        "tags": [],
        "outputId": "49cfc2c6-4fc5-4110-9b06-bae39dfed73b"
      },
      "source": [
        "# @title **To'g'ri javob**\n",
        "obj.size"
      ],
      "execution_count": null,
      "outputs": [
        {
          "data": {
            "text/plain": [
              "13"
            ]
          },
          "execution_count": 14,
          "metadata": {},
          "output_type": "execute_result"
        }
      ]
    },
    {
      "cell_type": "markdown",
      "metadata": {
        "id": "ZbXRPkW5iNDw"
      },
      "source": [
        "### **7-mashq.** Yuqoridagi Series obyektining o'rtasidan 3 ta qiymat chiqaring"
      ]
    },
    {
      "cell_type": "code",
      "metadata": {
        "id": "7DZChnAQiczM",
        "colab": {
          "base_uri": "https://localhost:8080/"
        },
        "outputId": "dbc46c74-247a-4eba-af95-032c5ac827fb"
      },
      "source": [
        "# Javobni shuyerga yozing\n",
        "ser[[5,6,7]]"
      ],
      "execution_count": 23,
      "outputs": [
        {
          "output_type": "execute_result",
          "data": {
            "text/plain": [
              "5       Namangan\n",
              "6         Navoiy\n",
              "7    Qashqadaryo\n",
              "dtype: object"
            ]
          },
          "metadata": {},
          "execution_count": 23
        }
      ]
    },
    {
      "cell_type": "code",
      "metadata": {
        "cellView": "form",
        "code_folding": [
          0
        ],
        "colab": {
          "base_uri": "https://localhost:8080/"
        },
        "id": "EVtmpTXhieqB",
        "jupyter": {
          "source_hidden": true
        },
        "tags": [],
        "outputId": "ec2e862d-0c49-4854-f944-28e5301a329e"
      },
      "source": [
        "# @title **To'g'ri javob**\n",
        "\n",
        "obj[[5, 6, 7]]"
      ],
      "execution_count": null,
      "outputs": [
        {
          "data": {
            "text/plain": [
              "5       Namangan\n",
              "6         Navoiy\n",
              "7    Qashqadaryo\n",
              "dtype: object"
            ]
          },
          "execution_count": 16,
          "metadata": {},
          "output_type": "execute_result"
        }
      ]
    },
    {
      "cell_type": "markdown",
      "metadata": {
        "id": "1pjPsrTFjG4v"
      },
      "source": [
        "### **8-mashq.** Quyidagi Series obyektini yarating.\n",
        "**Ahamiyat bering. `Series` obyekti indeksi sifatida viloyatlar nomi ishlatilgan**"
      ]
    },
    {
      "cell_type": "code",
      "metadata": {
        "code_folding": [
          0
        ],
        "colab": {
          "base_uri": "https://localhost:8080/"
        },
        "id": "wXmpomZCiv5f",
        "jupyter": {
          "source_hidden": true
        },
        "tags": [],
        "outputId": "f080e5a2-8de4-43a3-ce00-70a3cc97b9e5"
      },
      "source": [
        "# @title\n",
        "ind = obj.values\n",
        "aholi = [\n",
        "    1899000,\n",
        "    1384700,\n",
        "    2597000,\n",
        "    910500,\n",
        "    1200000,\n",
        "    1862000,\n",
        "    767500,\n",
        "    2029000,\n",
        "    1200000,\n",
        "    2322000,\n",
        "    648100,\n",
        "    1676000,\n",
        "    4450000,\n",
        "]\n",
        "obj2 = pd.Series(aholi, index=ind)\n",
        "print(obj2)"
      ],
      "execution_count": 24,
      "outputs": [
        {
          "output_type": "stream",
          "name": "stdout",
          "text": [
            "Andijon                          1899000\n",
            "Buxoro                           1384700\n",
            "Farg'ona                         2597000\n",
            "Jizzax                            910500\n",
            "Xorazm                           1200000\n",
            "Namangan                         1862000\n",
            "Navoiy                            767500\n",
            "Qashqadaryo                      2029000\n",
            "Qoraqalpog'iston Respublikasi    1200000\n",
            "Samarqand                        2322000\n",
            "Sirdaryo                          648100\n",
            "Surxondaryo                      1676000\n",
            "Toshkent                         4450000\n",
            "dtype: int64\n"
          ]
        }
      ]
    },
    {
      "cell_type": "code",
      "metadata": {
        "id": "ehlAxUD6jEjx"
      },
      "source": [
        "# Javobni shuyerga yozing\n",
        "ind = ser.values\n",
        "numbers = [1899000, 1384700, 2597000, 910500, 1200000, 1862000, 767500, 2029000, 1200000, 2322000, 648100, 1676000, 4450000]\n",
        "obj2 = pd.Series(numbers, index= ind)\n",
        "obj2\n"
      ],
      "execution_count": null,
      "outputs": []
    },
    {
      "cell_type": "markdown",
      "metadata": {
        "id": "_xG9zq_KkTXn"
      },
      "source": [
        "### **9-mashq.** Yuqoridagi `Series` obyektidan Jizzax, Buxoro va Namangan viloyatlarining aholisini chiqaring"
      ]
    },
    {
      "cell_type": "code",
      "metadata": {
        "id": "71ZC0ZKoki_N",
        "colab": {
          "base_uri": "https://localhost:8080/"
        },
        "outputId": "d060653a-4915-4a34-9793-fb3c7b8aa25e"
      },
      "source": [
        "# Javobni shuyerga yozing\n",
        "obj2[[\"Jizzax\", \"Buxoro\", \"Namangan\"]]"
      ],
      "execution_count": 25,
      "outputs": [
        {
          "output_type": "execute_result",
          "data": {
            "text/plain": [
              "Jizzax       910500\n",
              "Buxoro      1384700\n",
              "Namangan    1862000\n",
              "dtype: int64"
            ]
          },
          "metadata": {},
          "execution_count": 25
        }
      ]
    },
    {
      "cell_type": "code",
      "metadata": {
        "code_folding": [
          0
        ],
        "colab": {
          "base_uri": "https://localhost:8080/"
        },
        "id": "Nd-jwIiZkkxW",
        "jupyter": {
          "source_hidden": true
        },
        "tags": [],
        "outputId": "b114f282-02a3-4c02-9f67-8a086f7e1615"
      },
      "source": [
        "# @title **To'g'ri javob**\n",
        "obj2[[\"Jizzax\", \"Buxoro\", \"Namangan\"]]"
      ],
      "execution_count": 26,
      "outputs": [
        {
          "output_type": "execute_result",
          "data": {
            "text/plain": [
              "Jizzax       910500\n",
              "Buxoro      1384700\n",
              "Namangan    1862000\n",
              "dtype: int64"
            ]
          },
          "metadata": {},
          "execution_count": 26
        }
      ]
    },
    {
      "cell_type": "markdown",
      "metadata": {
        "id": "d2ci3QWEkuEN"
      },
      "source": [
        "### **10-mashq.** Yuqoridagi `Series` obyektidan aholi soni 1 milliondan kam va ko'p bo'lgan viloyatlarni alohida chiqaring"
      ]
    },
    {
      "cell_type": "code",
      "metadata": {
        "id": "ENuCHKPukr6X",
        "colab": {
          "base_uri": "https://localhost:8080/"
        },
        "outputId": "bc2406d1-77b0-418b-d7ac-46f807e97496"
      },
      "source": [
        "# Javobni shuyerga yozing\n",
        "print (f\"Aholisi milliondan ko'p viloyatlar:\\n{obj2[obj2>1_000_000]}\")\n",
        "print (f\"Aholisi milliondan kam viloyatlar:\\n{obj2[obj2<1_000_000]}\")"
      ],
      "execution_count": 27,
      "outputs": [
        {
          "output_type": "stream",
          "name": "stdout",
          "text": [
            "Aholisi milliondan ko'p viloyatlar:\n",
            "Andijon                          1899000\n",
            "Buxoro                           1384700\n",
            "Farg'ona                         2597000\n",
            "Xorazm                           1200000\n",
            "Namangan                         1862000\n",
            "Qashqadaryo                      2029000\n",
            "Qoraqalpog'iston Respublikasi    1200000\n",
            "Samarqand                        2322000\n",
            "Surxondaryo                      1676000\n",
            "Toshkent                         4450000\n",
            "dtype: int64\n",
            "Aholisi milliondan kam viloyatlar:\n",
            "Jizzax      910500\n",
            "Navoiy      767500\n",
            "Sirdaryo    648100\n",
            "dtype: int64\n"
          ]
        }
      ]
    },
    {
      "cell_type": "code",
      "metadata": {
        "cellView": "form",
        "code_folding": [
          0
        ],
        "colab": {
          "base_uri": "https://localhost:8080/"
        },
        "id": "C-IZM30Fk_jM",
        "jupyter": {
          "source_hidden": true
        },
        "tags": [],
        "outputId": "c0290761-640e-45dd-9444-88f1b7c0c705"
      },
      "source": [
        "\n",
        "# @title **To'g'ri javob**\n",
        "print(\"Aholisi 1 milliondan ko'p viloyatlar\")\n",
        "print(obj2[obj2 > 1_000_000])\n",
        "# Pythonda katta sonlarni yozishda 0 orasini _ bilan ajratish mumkin"
      ],
      "execution_count": 28,
      "outputs": [
        {
          "output_type": "stream",
          "name": "stdout",
          "text": [
            "Aholisi 1 milliondan ko'p viloyatlar\n",
            "Andijon                          1899000\n",
            "Buxoro                           1384700\n",
            "Farg'ona                         2597000\n",
            "Xorazm                           1200000\n",
            "Namangan                         1862000\n",
            "Qashqadaryo                      2029000\n",
            "Qoraqalpog'iston Respublikasi    1200000\n",
            "Samarqand                        2322000\n",
            "Surxondaryo                      1676000\n",
            "Toshkent                         4450000\n",
            "dtype: int64\n"
          ]
        }
      ]
    },
    {
      "cell_type": "code",
      "metadata": {
        "cellView": "form",
        "code_folding": [
          0
        ],
        "colab": {
          "base_uri": "https://localhost:8080/"
        },
        "id": "lUevJ5D7lK0m",
        "jupyter": {
          "source_hidden": true
        },
        "tags": [],
        "outputId": "a12d4904-d5bf-4d4f-d035-1fcc2fcad37d"
      },
      "source": [
        "# @title\n",
        "print(\"Aholisi 1 milliondan kam viloyatlar\")\n",
        "print(obj2[obj2 < 1_000_000])"
      ],
      "execution_count": 29,
      "outputs": [
        {
          "output_type": "stream",
          "name": "stdout",
          "text": [
            "Aholisi 1 milliondan kam viloyatlar\n",
            "Jizzax      910500\n",
            "Navoiy      767500\n",
            "Sirdaryo    648100\n",
            "dtype: int64\n"
          ]
        }
      ]
    },
    {
      "cell_type": "markdown",
      "metadata": {
        "id": "RX_PQaBdlmmO"
      },
      "source": [
        "### **11-mashq.** Aholisi 1 milliondan ko'p davlatlar orasida Navoiy viloyati bor/yo'qligini tekshiring"
      ]
    },
    {
      "cell_type": "code",
      "metadata": {
        "id": "gJqjvEcRlcme",
        "colab": {
          "base_uri": "https://localhost:8080/"
        },
        "outputId": "c23bb757-d20e-4ce3-964b-6d779e2e967b"
      },
      "source": [
        "# Javobni shuyerga yozing\n",
        "'Navoiy in' in obj2[obj2>1000000]"
      ],
      "execution_count": 30,
      "outputs": [
        {
          "output_type": "execute_result",
          "data": {
            "text/plain": [
              "False"
            ]
          },
          "metadata": {},
          "execution_count": 30
        }
      ]
    },
    {
      "cell_type": "code",
      "metadata": {
        "cellView": "form",
        "code_folding": [
          0
        ],
        "colab": {
          "base_uri": "https://localhost:8080/"
        },
        "id": "5bzl-eT-l3ft",
        "jupyter": {
          "source_hidden": true
        },
        "tags": [],
        "outputId": "0e3d71c0-791f-4faf-955d-58967c1d7944"
      },
      "source": [
        "# @title **To'g'ri javob**\n",
        "\"Navoiy\" in obj2[obj2 > 1_000_000]"
      ],
      "execution_count": 31,
      "outputs": [
        {
          "output_type": "execute_result",
          "data": {
            "text/plain": [
              "False"
            ]
          },
          "metadata": {},
          "execution_count": 31
        }
      ]
    },
    {
      "cell_type": "markdown",
      "metadata": {
        "id": "5m-FKutVmLpA"
      },
      "source": [
        "### **12-mashq.** Quyidagi lug'atda viloyatlar va ularning maydonlari berilgan. Lug'atdan yangi `Series` obyektini yarating va unga \"Hududlar hajmi\" deb nom bering"
      ]
    },
    {
      "cell_type": "code",
      "metadata": {
        "code_folding": [],
        "id": "sr3vN7vFl_GZ"
      },
      "source": [
        "dict = {\n",
        "    \"Andijon\": 4200,\n",
        "    \"Buxoro\": 39400,\n",
        "    \"Farg'ona\": 6800,\n",
        "    \"Jizzax\": 20500,\n",
        "    \"Xorazm\": 6300,\n",
        "    \"Namangan\": 7900,\n",
        "    \"Navoiy\": 110800,\n",
        "    \"Qashqadaryo\": 28400,\n",
        "    \"Qoraqalpog'iston Respublikasi\": 160000,\n",
        "    \"Samarqand\": 16400,\n",
        "    \"Sirdaryo\": 5100,\n",
        "    \"Surxondaryo\": 20800,\n",
        "    \"Toshkent\": 15300\n",
        "}\n"
      ],
      "execution_count": 32,
      "outputs": []
    },
    {
      "cell_type": "code",
      "metadata": {
        "code_folding": [],
        "id": "OmkdZo62MaUD",
        "colab": {
          "base_uri": "https://localhost:8080/"
        },
        "outputId": "1c2ca0a5-1d5d-4054-bb45-5eb403515551"
      },
      "source": [
        "# Javobni shuyerga yozing\n",
        "hududlar = pd.Series(dict, name=\"Hududlar hajmi\")\n",
        "print(hududlar)"
      ],
      "execution_count": 38,
      "outputs": [
        {
          "output_type": "stream",
          "name": "stdout",
          "text": [
            "Andijon                            4200\n",
            "Buxoro                            39400\n",
            "Farg'ona                           6800\n",
            "Jizzax                            20500\n",
            "Xorazm                             6300\n",
            "Namangan                           7900\n",
            "Navoiy                           110800\n",
            "Qashqadaryo                       28400\n",
            "Qoraqalpog'iston Respublikasi    160000\n",
            "Samarqand                         16400\n",
            "Sirdaryo                           5100\n",
            "Surxondaryo                       20800\n",
            "Toshkent                          15300\n",
            "Name: Hududlar hajmi, dtype: int64\n"
          ]
        }
      ]
    },
    {
      "cell_type": "code",
      "metadata": {
        "code_folding": [
          0
        ],
        "jupyter": {
          "source_hidden": true
        },
        "tags": [],
        "cellView": "form",
        "id": "kIPqYAlxMaUD",
        "outputId": "c2a75615-fcb8-4251-e143-04864a9a505a",
        "colab": {
          "base_uri": "https://localhost:8080/"
        }
      },
      "source": [
        "#@title To'g'ri javob\n",
        "obj3 = pd.Series(dict)\n",
        "obj3.name = \"Hudular hajmi\"\n",
        "print(obj3)"
      ],
      "execution_count": 33,
      "outputs": [
        {
          "output_type": "stream",
          "name": "stdout",
          "text": [
            "Andijon                            4200\n",
            "Buxoro                            39400\n",
            "Farg'ona                           6800\n",
            "Jizzax                            20500\n",
            "Xorazm                             6300\n",
            "Namangan                           7900\n",
            "Navoiy                           110800\n",
            "Qashqadaryo                       28400\n",
            "Qoraqalpog'iston Respublikasi    160000\n",
            "Samarqand                         16400\n",
            "Sirdaryo                           5100\n",
            "Surxondaryo                       20800\n",
            "Toshkent                          15300\n",
            "Name: Hudular hajmi, dtype: int64\n"
          ]
        }
      ]
    },
    {
      "cell_type": "markdown",
      "metadata": {
        "id": "1WlWLIfvMaUD"
      },
      "source": [
        "### **13-mashq.** Yuqoridagi `Series` obyektidan hududi eng katta va eng kichik elementlarni chiqaring"
      ]
    },
    {
      "cell_type": "code",
      "metadata": {
        "id": "cfQUklJ3MaUD",
        "colab": {
          "base_uri": "https://localhost:8080/"
        },
        "outputId": "9af02195-7818-427a-95e4-9182eb9c2412"
      },
      "source": [
        "# Javobni shuyerga yozing\n",
        "maxhudud = hududlar.idxmax()\n",
        "minhudud = hududlar.idxmin()\n",
        "print(f\"Eng katta hudud: {maxhudud} \\nEng kichik hudud: {minhudud}\")"
      ],
      "execution_count": 39,
      "outputs": [
        {
          "output_type": "stream",
          "name": "stdout",
          "text": [
            "Eng katta hudud: Qoraqalpog'iston Respublikasi \n",
            "Eng kichik hudud: Andijon\n"
          ]
        }
      ]
    },
    {
      "cell_type": "code",
      "metadata": {
        "code_folding": [
          0
        ],
        "jupyter": {
          "source_hidden": true
        },
        "tags": [],
        "id": "iwVCGmISMaUD",
        "outputId": "c2220771-5661-4f49-aa5a-331e71e0d9af"
      },
      "source": [
        "#@title To'g'ri javob\n",
        "print(f\"Eng katta hudud: {obj3.idxmax()}\")\n",
        "print(f\"Eng kichik hudud: {obj3.idxmin()}\")"
      ],
      "execution_count": null,
      "outputs": [
        {
          "name": "stdout",
          "output_type": "stream",
          "text": [
            "Eng katta hudud: Qoraqalpog'iston Respublikasi\n",
            "Eng kichik hudud: Andijon\n"
          ]
        }
      ]
    },
    {
      "cell_type": "markdown",
      "metadata": {
        "id": "hyCJqv3gMaUE"
      },
      "source": [
        "### **14-mashq.** Yuqoridagi eng katta va eng kichik hududlar aholisi sonini chiqaring"
      ]
    },
    {
      "cell_type": "code",
      "metadata": {
        "id": "wu26U94yMaUE",
        "colab": {
          "base_uri": "https://localhost:8080/"
        },
        "outputId": "bb6fafa7-40b8-411f-c0bf-534e0d355726"
      },
      "source": [
        "# Javobni shuyerga yozing\n",
        "print(f\"{maxhudud} aholisi {obj2[maxhudud]}\")\n",
        "print(f\"{minhudud} aholisi {obj2[minhudud]}\")"
      ],
      "execution_count": 40,
      "outputs": [
        {
          "output_type": "stream",
          "name": "stdout",
          "text": [
            "Qoraqalpog'iston Respublikasi aholisi 1200000\n",
            "Andijon aholisi 1899000\n"
          ]
        }
      ]
    },
    {
      "cell_type": "code",
      "metadata": {
        "code_folding": [
          0
        ],
        "jupyter": {
          "source_hidden": true
        },
        "tags": [],
        "cellView": "form",
        "id": "bu_B5iFwMaUE",
        "outputId": "af5613de-dd5f-47e3-e1ff-9f3ff0327720"
      },
      "source": [
        "#@title To'g'ri javob\n",
        "print(f\"{obj3.idxmax()} aholisi {obj2[obj3.idxmax()]}\")\n",
        "print(f\"{obj3.idxmin()} aholisi {obj2[obj3.idxmin()]}\")"
      ],
      "execution_count": null,
      "outputs": [
        {
          "name": "stdout",
          "output_type": "stream",
          "text": [
            "Qoraqalpog'iston Respublikasi aholisi 1200000\n",
            "Andijon aholisi 1899000\n"
          ]
        }
      ]
    },
    {
      "cell_type": "markdown",
      "metadata": {
        "id": "C6M1A-wZMaUE"
      },
      "source": [
        "### **15-mashq**. Yuqoridagi hudulardan O'zbekiston Respublikasi hududini hisoblang"
      ]
    },
    {
      "cell_type": "code",
      "metadata": {
        "id": "lBjvOsu_MaUE",
        "colab": {
          "base_uri": "https://localhost:8080/"
        },
        "outputId": "2fc02256-685f-4fc0-aef6-be51c325add9"
      },
      "source": [
        "# Javobni shuyerga yozing\n",
        "total_area = hududlar.sum()\n",
        "total_area"
      ],
      "execution_count": 41,
      "outputs": [
        {
          "output_type": "execute_result",
          "data": {
            "text/plain": [
              "441900"
            ]
          },
          "metadata": {},
          "execution_count": 41
        }
      ]
    },
    {
      "cell_type": "code",
      "metadata": {
        "code_folding": [
          0
        ],
        "jupyter": {
          "source_hidden": true
        },
        "tags": [],
        "id": "Fq9J3uC-MaUE",
        "outputId": "d8f8bd5b-aed7-4640-a0f0-d831a6d701b4",
        "colab": {
          "base_uri": "https://localhost:8080/"
        }
      },
      "source": [
        "#@title To'g'ri javob\n",
        "sum(obj3)"
      ],
      "execution_count": 42,
      "outputs": [
        {
          "output_type": "execute_result",
          "data": {
            "text/plain": [
              "441900"
            ]
          },
          "metadata": {},
          "execution_count": 42
        }
      ]
    },
    {
      "cell_type": "markdown",
      "metadata": {
        "id": "VG1qyIWfMaUF"
      },
      "source": [
        "### **16-mashq.** Aholisi eng ko'p va eng kam hududlarning hajmini va aholi sonini chiqaring"
      ]
    },
    {
      "cell_type": "code",
      "metadata": {
        "id": "wpqDW7mEMaUF",
        "colab": {
          "base_uri": "https://localhost:8080/"
        },
        "outputId": "f88db242-93cc-4291-9705-6aa073791373"
      },
      "source": [
        "# Javobni shuyerga yozing\n",
        "print(f\"{obj2.idxmax()} hududi {hududlar[obj2.idxmax()]} kv.km, aholisi {obj2.max()}\")\n",
        "print(f\"{obj2.idxmin()} hududi {hududlar[obj2.idxmin()]} kv.km, aholisi {obj2.min()}\")\n"
      ],
      "execution_count": 43,
      "outputs": [
        {
          "output_type": "stream",
          "name": "stdout",
          "text": [
            "Toshkent hududi 15300 kv.km, aholisi 4450000\n",
            "Sirdaryo hududi 5100 kv.km, aholisi 648100\n"
          ]
        }
      ]
    },
    {
      "cell_type": "code",
      "metadata": {
        "code_folding": [
          0
        ],
        "jupyter": {
          "source_hidden": true
        },
        "tags": [],
        "id": "mlK_8JEfMaUF",
        "outputId": "8ef5d64d-601a-48ca-95a9-30c808507d6d"
      },
      "source": [
        "#@title To'g'ri javob\n",
        "print(f\"{obj2.idxmax()} hududi {obj3[obj2.idxmax()]}kv.km, aholisi {obj2[obj2.idxmax()]}\")\n",
        "print(f\"{obj2.idxmin()} hududi {obj3[obj2.idxmin()]}kv.km, aholisi {obj2[obj2.idxmin()]}\")"
      ],
      "execution_count": null,
      "outputs": [
        {
          "name": "stdout",
          "output_type": "stream",
          "text": [
            "Toshkent hududi 15300kv.km, aholisi 4450000\n",
            "Sirdaryo hududi 5100kv.km, aholisi 648100\n"
          ]
        }
      ]
    },
    {
      "cell_type": "markdown",
      "metadata": {
        "id": "DVnpsFuBMaUF"
      },
      "source": [
        "### **17-mashq.** Yuqoridagi ikki obyektdan foydalangan holda O'zbekiston respublikasi tarkibidagi hududlarni avval aholi soni bo'yicha, keyin esa hajmi bo'yicha tartiblab chiqaring"
      ]
    },
    {
      "cell_type": "code",
      "metadata": {
        "id": "ritVgX4bMaUF",
        "colab": {
          "base_uri": "https://localhost:8080/"
        },
        "outputId": "0c4016e0-9b78-445e-de6c-46b32547aebd"
      },
      "source": [
        "# Javobni shuyerga yozing\n",
        "print(f\"Hududlar hajmi bo'yicha tartiblash \\n{hududlar.sort_values()}\")\n",
        "print(f\"\\nHududlar aholi bo'yicha tartiblash \\n{obj2.sort_values()}\")"
      ],
      "execution_count": 50,
      "outputs": [
        {
          "output_type": "stream",
          "name": "stdout",
          "text": [
            "Hududlar hajmi bo'yicha tartiblash \n",
            "Andijon                            4200\n",
            "Sirdaryo                           5100\n",
            "Xorazm                             6300\n",
            "Farg'ona                           6800\n",
            "Namangan                           7900\n",
            "Toshkent                          15300\n",
            "Samarqand                         16400\n",
            "Jizzax                            20500\n",
            "Surxondaryo                       20800\n",
            "Qashqadaryo                       28400\n",
            "Buxoro                            39400\n",
            "Navoiy                           110800\n",
            "Qoraqalpog'iston Respublikasi    160000\n",
            "Name: Hududlar hajmi, dtype: int64\n",
            "\n",
            "Hududlar aholi bo'yicha tartiblash \n",
            "Sirdaryo                          648100\n",
            "Navoiy                            767500\n",
            "Jizzax                            910500\n",
            "Xorazm                           1200000\n",
            "Qoraqalpog'iston Respublikasi    1200000\n",
            "Buxoro                           1384700\n",
            "Surxondaryo                      1676000\n",
            "Namangan                         1862000\n",
            "Andijon                          1899000\n",
            "Qashqadaryo                      2029000\n",
            "Samarqand                        2322000\n",
            "Farg'ona                         2597000\n",
            "Toshkent                         4450000\n",
            "dtype: int64\n"
          ]
        }
      ]
    },
    {
      "cell_type": "code",
      "metadata": {
        "code_folding": [
          0
        ],
        "jupyter": {
          "source_hidden": true
        },
        "tags": [],
        "id": "uzGYBpU-MaUF",
        "outputId": "1e991202-691a-4201-8f6b-4373c78dfc89"
      },
      "source": [
        "#@title To'g'ri javob\n",
        "print(\"Hududlar hajmi bo'yicha tartiblash\")\n",
        "obj3.sort_values()"
      ],
      "execution_count": null,
      "outputs": [
        {
          "name": "stdout",
          "output_type": "stream",
          "text": [
            "Hududlar hajmi bo'yicha tartiblash\n"
          ]
        },
        {
          "data": {
            "text/plain": [
              "Andijon                            4200\n",
              "Sirdaryo                           5100\n",
              "Xorazm                             6300\n",
              "Farg'ona                           6800\n",
              "Namangan                           7900\n",
              "Toshkent                          15300\n",
              "Samarqand                         16400\n",
              "Jizzax                            20500\n",
              "Surxondaryo                       20800\n",
              "Qashqadaryo                       28400\n",
              "Buxoro                            39400\n",
              "Navoiy                           110800\n",
              "Qoraqalpog'iston Respublikasi    160000\n",
              "Name: Hudular hajmi, dtype: int64"
            ]
          },
          "execution_count": 61,
          "metadata": {},
          "output_type": "execute_result"
        }
      ]
    },
    {
      "cell_type": "code",
      "metadata": {
        "code_folding": [
          0
        ],
        "jupyter": {
          "source_hidden": true
        },
        "tags": [],
        "id": "RPI5Y5ZaMaUF",
        "outputId": "0547c8b5-f508-4c86-97ea-ca7e0b379345",
        "colab": {
          "base_uri": "https://localhost:8080/"
        }
      },
      "source": [
        "#@title To'g'ri javob\n",
        "print(\"Aholi soni bo'yicha tartiblash\")\n",
        "obj2.sort_values()"
      ],
      "execution_count": 51,
      "outputs": [
        {
          "output_type": "stream",
          "name": "stdout",
          "text": [
            "Aholi soni bo'yicha tartiblash\n"
          ]
        },
        {
          "output_type": "execute_result",
          "data": {
            "text/plain": [
              "Sirdaryo                          648100\n",
              "Navoiy                            767500\n",
              "Jizzax                            910500\n",
              "Xorazm                           1200000\n",
              "Qoraqalpog'iston Respublikasi    1200000\n",
              "Buxoro                           1384700\n",
              "Surxondaryo                      1676000\n",
              "Namangan                         1862000\n",
              "Andijon                          1899000\n",
              "Qashqadaryo                      2029000\n",
              "Samarqand                        2322000\n",
              "Farg'ona                         2597000\n",
              "Toshkent                         4450000\n",
              "dtype: int64"
            ]
          },
          "metadata": {},
          "execution_count": 51
        }
      ]
    },
    {
      "cell_type": "code",
      "metadata": {
        "id": "YgESVszuMaUG"
      },
      "source": [],
      "execution_count": null,
      "outputs": []
    }
  ]
}